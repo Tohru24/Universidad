{
  "nbformat": 4,
  "nbformat_minor": 0,
  "metadata": {
    "colab": {
      "name": "Ejercicio1.ipynb",
      "provenance": []
    },
    "kernelspec": {
      "name": "python3",
      "display_name": "Python 3"
    },
    "language_info": {
      "name": "python"
    }
  },
  "cells": [
    {
      "cell_type": "code",
      "metadata": {
        "colab": {
          "base_uri": "https://localhost:8080/"
        },
        "id": "hv_hZJ7BJ2rC",
        "outputId": "4d4ea00a-0f18-4c17-ed08-e357e7c69094"
      },
      "source": [
        "pip install pulp\n"
      ],
      "execution_count": 1,
      "outputs": [
        {
          "output_type": "stream",
          "name": "stdout",
          "text": [
            "Collecting pulp\n",
            "  Downloading PuLP-2.5.0-py3-none-any.whl (41.2 MB)\n",
            "\u001b[K     |████████████████████████████████| 41.2 MB 75 kB/s \n",
            "\u001b[?25hInstalling collected packages: pulp\n",
            "Successfully installed pulp-2.5.0\n"
          ]
        }
      ]
    },
    {
      "cell_type": "code",
      "metadata": {
        "id": "nEQtvsw5LDfw"
      },
      "source": [
        "import pandas\n",
        "from pandas import *\n",
        "from pulp import *"
      ],
      "execution_count": 3,
      "outputs": []
    },
    {
      "cell_type": "code",
      "metadata": {
        "id": "YPI7VTpdLETd"
      },
      "source": [
        "problema=pulp.LpProblem('miproblema',LpMaximize)"
      ],
      "execution_count": 4,
      "outputs": []
    },
    {
      "cell_type": "code",
      "metadata": {
        "colab": {
          "base_uri": "https://localhost:8080/"
        },
        "id": "TyYYz2t9LQ92",
        "outputId": "71d8c906-8d01-485e-abea-a2ecbab984a1"
      },
      "source": [
        "x1=pulp.LpVariable('x1',0,None)\n",
        "x2=pulp.LpVariable('x2',0,None)\n",
        "x3=pulp.LpVariable('x3',0,None)\n",
        "\n",
        "problema += 3*x1+2*x2+5*x3\n",
        "problema += 1*x1+2*x2+1*x3 <= 430\n",
        "problema += 3*x1+0*x2+2*x3 <= 460\n",
        "problema += 1*x1+4*x2+0*x3 <= 420\n",
        "\n",
        "problema.solve()\n",
        "print('la función objetivo es', pulp.value(problema.objective))\n",
        "for i in problema.variables():\n",
        "  print(i.name, '=', i.varValue)"
      ],
      "execution_count": 5,
      "outputs": [
        {
          "output_type": "stream",
          "name": "stdout",
          "text": [
            "la función objetivo es 1350.0\n",
            "x1 = 0.0\n",
            "x2 = 100.0\n",
            "x3 = 230.0\n"
          ]
        }
      ]
    },
    {
      "cell_type": "code",
      "metadata": {
        "colab": {
          "base_uri": "https://localhost:8080/"
        },
        "id": "vXwxrorSLjkP",
        "outputId": "5066ce8f-c9ee-403c-eed0-a569d4ef354e"
      },
      "source": [
        "s=[{'restricciones':cname, 'Holguras':cinfo.slack, 'Shadow price':cinfo.pi} for cname,  cinfo in problema.constraints.items()]\n",
        "print(pandas.DataFrame(s))"
      ],
      "execution_count": 6,
      "outputs": [
        {
          "output_type": "stream",
          "name": "stdout",
          "text": [
            "  restricciones  Holguras  Shadow price\n",
            "0           _C1      -0.0           1.0\n",
            "1           _C2      -0.0           2.0\n",
            "2           _C3      20.0          -0.0\n"
          ]
        }
      ]
    }
  ]
}