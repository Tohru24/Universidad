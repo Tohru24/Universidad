{
  "nbformat": 4,
  "nbformat_minor": 0,
  "metadata": {
    "colab": {
      "name": "Ejercicio2.ipynb",
      "provenance": []
    },
    "kernelspec": {
      "name": "python3",
      "display_name": "Python 3"
    },
    "language_info": {
      "name": "python"
    }
  },
  "cells": [
    {
      "cell_type": "code",
      "metadata": {
        "colab": {
          "base_uri": "https://localhost:8080/"
        },
        "id": "8Lq5-qEzOLbx",
        "outputId": "821e0b04-f690-4084-91e7-fbe5b7322d65"
      },
      "source": [
        "pip install pulp\n"
      ],
      "execution_count": 1,
      "outputs": [
        {
          "output_type": "stream",
          "name": "stdout",
          "text": [
            "Collecting pulp\n",
            "  Downloading PuLP-2.5.0-py3-none-any.whl (41.2 MB)\n",
            "\u001b[K     |████████████████████████████████| 41.2 MB 72 kB/s \n",
            "\u001b[?25hInstalling collected packages: pulp\n",
            "Successfully installed pulp-2.5.0\n"
          ]
        }
      ]
    },
    {
      "cell_type": "code",
      "metadata": {
        "id": "DPaKSwiPOTLg"
      },
      "source": [
        "import pandas\n",
        "from pandas import *\n",
        "from pulp import *"
      ],
      "execution_count": 2,
      "outputs": []
    },
    {
      "cell_type": "code",
      "metadata": {
        "id": "03nRKSZeOWF3"
      },
      "source": [
        "problema=pulp.LpProblem('miproblema',LpMaximize)"
      ],
      "execution_count": 3,
      "outputs": []
    },
    {
      "cell_type": "code",
      "metadata": {
        "id": "wQo2WirCOX1H"
      },
      "source": [
        "x1=pulp.LpVariable('x1',0,None)\n",
        "x2=pulp.LpVariable('x2',0,None)"
      ],
      "execution_count": 4,
      "outputs": []
    },
    {
      "cell_type": "code",
      "metadata": {
        "id": "mK-8YLfwOaKX"
      },
      "source": [
        "problema += 115*x1+90*x2\n",
        "problema += 10*x1+20*x2 <= 200\n",
        "problema += 4*x1+15*x2 <= 128\n",
        "problema += 15*x1+10*x2 <= 220"
      ],
      "execution_count": 5,
      "outputs": []
    },
    {
      "cell_type": "code",
      "metadata": {
        "colab": {
          "base_uri": "https://localhost:8080/"
        },
        "id": "UsLj4QaeOzfI",
        "outputId": "2c96a35a-0321-451d-f950-079e7151cf28"
      },
      "source": [
        "problema.solve()\n",
        "print('la función objetivo es', pulp.value(problema.objective))\n",
        "for i in problema.variables():\n",
        "  print(i.name, '=', i.varValue)"
      ],
      "execution_count": 6,
      "outputs": [
        {
          "output_type": "stream",
          "name": "stdout",
          "text": [
            "la función objetivo es 1740.0\n",
            "x1 = 12.0\n",
            "x2 = 4.0\n"
          ]
        }
      ]
    },
    {
      "cell_type": "code",
      "metadata": {
        "colab": {
          "base_uri": "https://localhost:8080/"
        },
        "id": "KTxtP0DZO3I-",
        "outputId": "05e05027-dee7-4a9b-8dde-49e34bcc7116"
      },
      "source": [
        "s=[{'restricciones':cname, 'Holguras':cinfo.slack, 'Shadow price':cinfo.pi} for cname,  cinfo in problema.constraints.items()]\n",
        "print(pandas.DataFrame(s))"
      ],
      "execution_count": 7,
      "outputs": [
        {
          "output_type": "stream",
          "name": "stdout",
          "text": [
            "  restricciones  Holguras  Shadow price\n",
            "0           _C1      -0.0           1.0\n",
            "1           _C2      20.0          -0.0\n",
            "2           _C3      -0.0           7.0\n"
          ]
        }
      ]
    }
  ]
}