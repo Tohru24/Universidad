{
  "nbformat": 4,
  "nbformat_minor": 0,
  "metadata": {
    "kernelspec": {
      "display_name": "Python 3",
      "language": "python",
      "name": "python3"
    },
    "language_info": {
      "codemirror_mode": {
        "name": "ipython",
        "version": 3
      },
      "file_extension": ".py",
      "mimetype": "text/x-python",
      "name": "python",
      "nbconvert_exporter": "python",
      "pygments_lexer": "ipython3",
      "version": "3.7.4"
    },
    "colab": {
      "name": "T04_knn_sabogallopezjhonalexander",
      "provenance": [],
      "collapsed_sections": []
    }
  },
  "cells": [
    {
      "cell_type": "markdown",
      "metadata": {
        "id": "jl3uCDXK8IQX"
      },
      "source": [
        "<!--NAVIGATION-->\n",
        "<a href=\"https://colab.research.google.com/github/marcoteran/artificialintelligence/blob/master/notebooks/01_machinelearning/taller_artificialintelligence_knn.ipynb\" target=\"_blank\"><img align=\"left\" src=\"https://colab.research.google.com/assets/colab-badge.svg\" alt=\"Abrir en Colab\" title=\"Abrir y ejecutar en Google Colaboratory\"></a>"
      ]
    },
    {
      "cell_type": "markdown",
      "metadata": {
        "id": "VpojYWbU8IQd"
      },
      "source": [
        "# Taller: Clasificación no lineal, complejidad y sobreajuste\n",
        "## Inteligencia Artificial"
      ]
    },
    {
      "cell_type": "markdown",
      "metadata": {
        "id": "1mDWjd5l8IQe"
      },
      "source": [
        "**Name:** Marco Teran **E-mail:** marco.tulio.teran@gmail.com,\n",
        "[Website](http://marcoteran.github.io/),\n",
        "[Github](https://github.com/marcoteran),\n",
        "[LinkedIn](https://www.linkedin.com/in/marcoteran/).\n",
        "___"
      ]
    },
    {
      "cell_type": "markdown",
      "metadata": {
        "id": "nXPfLdG58IQf"
      },
      "source": [
        "Siguiendo con el conjunto de datos **Wine**.\n",
        "\n",
        "# Realice:\n",
        "\n",
        "* Cargue el conjunto de datos **Wine**.\n",
        "* Genere una partición estratificada 70-30 sobre el conjunto de datos.\n",
        "* Genere una gráfica de barras en Pandas que verifique que las particiones de entrenamiento y prueba tengan la misma distribución de clases.\n",
        "\n",
        "## Explorando la complejidad usando `KNearestNeighbor`\n",
        "* Entrene un modelo `KNearestNeighbor`. Use los siguientes valores para evaluar la complejidad:\n",
        "    * $[1, 2, 3, \\dots, 20]$\n",
        "    * Grafique los errores de entrenamiento y generalización conforme a la complejidad el modelo aumenta.\n",
        "* Construya un conjunto de datos usando las características `Proline` contra `Flavonoids`. \n",
        "    * Use la partición 70-30 definida al inicio\n",
        "    * Usando `KNearestNeighbor`, determine el número subóptimo de k-vecinos usando evaluación de la complejidad. Use los mismos valores de $k$: $[1, 2, 3, \\dots, 20]$\n",
        "    * Grafique la superficie de decisión contra los ejemplos de test.\n",
        "    * Reporte accuracy, el error de clasificación, la precisión macro, el recall macro y el F1 score macro sobre el **conjunto de prueba**."
      ]
    },
    {
      "cell_type": "markdown",
      "metadata": {
        "id": "09Ryo0NY8IQg"
      },
      "source": [
        "___"
      ]
    },
    {
      "cell_type": "code",
      "metadata": {
        "colab": {
          "base_uri": "https://localhost:8080/"
        },
        "id": "LZtXZ9b88VGL",
        "outputId": "78c838ce-5250-49f2-b3eb-b1306584d904"
      },
      "source": [
        "!mkdir -p data/\n",
        "!cd data/\n",
        "!wget https://github.com/marcoteran/artificialintelligence/raw/master/notebooks/01_machinelearnig/data/wine.data.txt -P data/\n",
        "!ls"
      ],
      "execution_count": 169,
      "outputs": [
        {
          "output_type": "stream",
          "name": "stdout",
          "text": [
            "--2021-11-03 01:40:28--  https://github.com/marcoteran/artificialintelligence/raw/master/notebooks/01_machinelearnig/data/wine.data.txt\n",
            "Resolving github.com (github.com)... 140.82.113.3\n",
            "Connecting to github.com (github.com)|140.82.113.3|:443... connected.\n",
            "HTTP request sent, awaiting response... 302 Found\n",
            "Location: https://raw.githubusercontent.com/marcoteran/artificialintelligence/master/notebooks/01_machinelearnig/data/wine.data.txt [following]\n",
            "--2021-11-03 01:40:28--  https://raw.githubusercontent.com/marcoteran/artificialintelligence/master/notebooks/01_machinelearnig/data/wine.data.txt\n",
            "Resolving raw.githubusercontent.com (raw.githubusercontent.com)... 185.199.109.133, 185.199.110.133, 185.199.111.133, ...\n",
            "Connecting to raw.githubusercontent.com (raw.githubusercontent.com)|185.199.109.133|:443... connected.\n",
            "HTTP request sent, awaiting response... 200 OK\n",
            "Length: 10925 (11K) [text/plain]\n",
            "Saving to: ‘data/wine.data.txt.6’\n",
            "\n",
            "\rwine.data.txt.6       0%[                    ]       0  --.-KB/s               \rwine.data.txt.6     100%[===================>]  10.67K  --.-KB/s    in 0s      \n",
            "\n",
            "2021-11-03 01:40:28 (79.8 MB/s) - ‘data/wine.data.txt.6’ saved [10925/10925]\n",
            "\n",
            "data  sample_data\n"
          ]
        }
      ]
    },
    {
      "cell_type": "code",
      "metadata": {
        "id": "VTnpgSKv93nz"
      },
      "source": [
        "import pandas as pd\n"
      ],
      "execution_count": 170,
      "outputs": []
    },
    {
      "cell_type": "code",
      "metadata": {
        "id": "_N0jI57w-QJ8"
      },
      "source": [
        "winedata_df=pd.read_csv(\"/content/data/wine.data.txt\")"
      ],
      "execution_count": 171,
      "outputs": []
    },
    {
      "cell_type": "code",
      "metadata": {
        "colab": {
          "base_uri": "https://localhost:8080/",
          "height": 202
        },
        "id": "aTN6Y13A-qwq",
        "outputId": "84596b86-5dd4-41af-8dc4-cedf9c3aa04a"
      },
      "source": [
        "winedata_df.head()"
      ],
      "execution_count": 172,
      "outputs": [
        {
          "output_type": "execute_result",
          "data": {
            "text/html": [
              "<div>\n",
              "<style scoped>\n",
              "    .dataframe tbody tr th:only-of-type {\n",
              "        vertical-align: middle;\n",
              "    }\n",
              "\n",
              "    .dataframe tbody tr th {\n",
              "        vertical-align: top;\n",
              "    }\n",
              "\n",
              "    .dataframe thead th {\n",
              "        text-align: right;\n",
              "    }\n",
              "</style>\n",
              "<table border=\"1\" class=\"dataframe\">\n",
              "  <thead>\n",
              "    <tr style=\"text-align: right;\">\n",
              "      <th></th>\n",
              "      <th>Class</th>\n",
              "      <th>Alcohol</th>\n",
              "      <th>Malic_acid</th>\n",
              "      <th>Ash</th>\n",
              "      <th>Alcalinity</th>\n",
              "      <th>Magnesium</th>\n",
              "      <th>Phenols</th>\n",
              "      <th>Flavanoids</th>\n",
              "      <th>Nonflavanoid</th>\n",
              "      <th>Proanthocyanins</th>\n",
              "      <th>Color</th>\n",
              "      <th>Hue</th>\n",
              "      <th>OD280/OD315</th>\n",
              "      <th>Proline</th>\n",
              "    </tr>\n",
              "  </thead>\n",
              "  <tbody>\n",
              "    <tr>\n",
              "      <th>0</th>\n",
              "      <td>1</td>\n",
              "      <td>14.23</td>\n",
              "      <td>1.71</td>\n",
              "      <td>2.43</td>\n",
              "      <td>15.6</td>\n",
              "      <td>127</td>\n",
              "      <td>2.80</td>\n",
              "      <td>3.06</td>\n",
              "      <td>0.28</td>\n",
              "      <td>2.29</td>\n",
              "      <td>5.64</td>\n",
              "      <td>1.04</td>\n",
              "      <td>3.92</td>\n",
              "      <td>1065</td>\n",
              "    </tr>\n",
              "    <tr>\n",
              "      <th>1</th>\n",
              "      <td>1</td>\n",
              "      <td>13.20</td>\n",
              "      <td>1.78</td>\n",
              "      <td>2.14</td>\n",
              "      <td>11.2</td>\n",
              "      <td>100</td>\n",
              "      <td>2.65</td>\n",
              "      <td>2.76</td>\n",
              "      <td>0.26</td>\n",
              "      <td>1.28</td>\n",
              "      <td>4.38</td>\n",
              "      <td>1.05</td>\n",
              "      <td>3.40</td>\n",
              "      <td>1050</td>\n",
              "    </tr>\n",
              "    <tr>\n",
              "      <th>2</th>\n",
              "      <td>1</td>\n",
              "      <td>13.16</td>\n",
              "      <td>2.36</td>\n",
              "      <td>2.67</td>\n",
              "      <td>18.6</td>\n",
              "      <td>101</td>\n",
              "      <td>2.80</td>\n",
              "      <td>3.24</td>\n",
              "      <td>0.30</td>\n",
              "      <td>2.81</td>\n",
              "      <td>5.68</td>\n",
              "      <td>1.03</td>\n",
              "      <td>3.17</td>\n",
              "      <td>1185</td>\n",
              "    </tr>\n",
              "    <tr>\n",
              "      <th>3</th>\n",
              "      <td>1</td>\n",
              "      <td>14.37</td>\n",
              "      <td>1.95</td>\n",
              "      <td>2.50</td>\n",
              "      <td>16.8</td>\n",
              "      <td>113</td>\n",
              "      <td>3.85</td>\n",
              "      <td>3.49</td>\n",
              "      <td>0.24</td>\n",
              "      <td>2.18</td>\n",
              "      <td>7.80</td>\n",
              "      <td>0.86</td>\n",
              "      <td>3.45</td>\n",
              "      <td>1480</td>\n",
              "    </tr>\n",
              "    <tr>\n",
              "      <th>4</th>\n",
              "      <td>1</td>\n",
              "      <td>13.24</td>\n",
              "      <td>2.59</td>\n",
              "      <td>2.87</td>\n",
              "      <td>21.0</td>\n",
              "      <td>118</td>\n",
              "      <td>2.80</td>\n",
              "      <td>2.69</td>\n",
              "      <td>0.39</td>\n",
              "      <td>1.82</td>\n",
              "      <td>4.32</td>\n",
              "      <td>1.04</td>\n",
              "      <td>2.93</td>\n",
              "      <td>735</td>\n",
              "    </tr>\n",
              "  </tbody>\n",
              "</table>\n",
              "</div>"
            ],
            "text/plain": [
              "   Class  Alcohol   Malic_acid   Ash  ...  Color   Hue   OD280/OD315   Proline    \n",
              "0      1    14.23         1.71  2.43  ...   5.64  1.04          3.92          1065\n",
              "1      1    13.20         1.78  2.14  ...   4.38  1.05          3.40          1050\n",
              "2      1    13.16         2.36  2.67  ...   5.68  1.03          3.17          1185\n",
              "3      1    14.37         1.95  2.50  ...   7.80  0.86          3.45          1480\n",
              "4      1    13.24         2.59  2.87  ...   4.32  1.04          2.93           735\n",
              "\n",
              "[5 rows x 14 columns]"
            ]
          },
          "metadata": {},
          "execution_count": 172
        }
      ]
    },
    {
      "cell_type": "code",
      "metadata": {
        "id": "_JyWY-p3_cZz"
      },
      "source": [
        "%matplotlib inline\n",
        "import matplotlib.pyplot as plt\n",
        "import numpy as np\n",
        "import pylab as pl\n",
        "from sklearn.datasets import make_moons"
      ],
      "execution_count": 173,
      "outputs": []
    },
    {
      "cell_type": "code",
      "metadata": {
        "id": "oWrshn2d_7rK"
      },
      "source": [
        "# Función para visualizar un conjunto de datos en 2D\n",
        "def plot_data(X, y):\n",
        "    y_unique = np.unique(y)\n",
        "    colors = pl.cm.rainbow(np.linspace(0.0, 1.0, y_unique.size))\n",
        "    for this_y, color in zip(y_unique, colors):\n",
        "        this_X = X[y == this_y]\n",
        "        pl.scatter(this_X[:, 0], this_X[:, 1],  c=color.reshape(1,-1),\n",
        "                    alpha=0.5, edgecolor='k',\n",
        "                    label=\"Class %s\" % this_y)\n",
        "    pl.legend(loc=\"best\")\n",
        "    pl.title(\"Data\")\n",
        "    \n",
        "# Función para visualizar de la superficie de decisión de un clasificador\n",
        "def plot_decision_region(X, pred_fun):\n",
        "    min_x = np.min(X[:, 0])\n",
        "    max_x = np.max(X[:, 0])\n",
        "    min_y = np.min(X[:, 1])\n",
        "    max_y = np.max(X[:, 1])\n",
        "    min_x = min_x - (max_x - min_x) * 0.05\n",
        "    max_x = max_x + (max_x - min_x) * 0.05\n",
        "    min_y = min_y - (max_y - min_y) * 0.05\n",
        "    max_y = max_y + (max_y - min_y) * 0.05\n",
        "    x_vals = np.linspace(min_x, max_x, 100)\n",
        "    y_vals = np.linspace(min_y, max_y, 100)\n",
        "    XX, YY = np.meshgrid(x_vals, y_vals)\n",
        "    grid_r, grid_c = XX.shape\n",
        "    ZZ = np.zeros((grid_r, grid_c))\n",
        "    for i in range(grid_r):\n",
        "        for j in range(grid_c):\n",
        "            ZZ[i, j] = pred_fun(XX[i, j], YY[i, j])\n",
        "    pl.contourf(XX, YY, ZZ, 100, cmap = pl.cm.coolwarm, vmin= -1, vmax=2)\n",
        "    pl.colorbar()\n",
        "    pl.xlabel(\"x\")\n",
        "    pl.ylabel(\"y\")\n",
        "    \n",
        "def gen_pred_fun(clf):\n",
        "    def pred_fun(x1, x2):\n",
        "        x = np.array([[x1, x2]])\n",
        "        return clf.predict(x)[0]\n",
        "    return pred_fun"
      ],
      "execution_count": 174,
      "outputs": []
    },
    {
      "cell_type": "markdown",
      "metadata": {
        "id": "KKHyPCheA5cx"
      },
      "source": [
        "Procesamiento de Datos"
      ]
    },
    {
      "cell_type": "code",
      "metadata": {
        "id": "bxYnXeMt__16"
      },
      "source": [
        "wine_labels=winedata_df[\"Class\"]"
      ],
      "execution_count": 175,
      "outputs": []
    },
    {
      "cell_type": "code",
      "metadata": {
        "id": "jp-eWwKaAdQL"
      },
      "source": [
        "winedata_df.drop(\"Class\",axis=1,inplace=True)"
      ],
      "execution_count": 176,
      "outputs": []
    },
    {
      "cell_type": "code",
      "metadata": {
        "colab": {
          "base_uri": "https://localhost:8080/",
          "height": 202
        },
        "id": "iyixZW2_Aw18",
        "outputId": "c2c7ada9-1aa9-4edb-8799-d97600840135"
      },
      "source": [
        "winedata_df.head()"
      ],
      "execution_count": 177,
      "outputs": [
        {
          "output_type": "execute_result",
          "data": {
            "text/html": [
              "<div>\n",
              "<style scoped>\n",
              "    .dataframe tbody tr th:only-of-type {\n",
              "        vertical-align: middle;\n",
              "    }\n",
              "\n",
              "    .dataframe tbody tr th {\n",
              "        vertical-align: top;\n",
              "    }\n",
              "\n",
              "    .dataframe thead th {\n",
              "        text-align: right;\n",
              "    }\n",
              "</style>\n",
              "<table border=\"1\" class=\"dataframe\">\n",
              "  <thead>\n",
              "    <tr style=\"text-align: right;\">\n",
              "      <th></th>\n",
              "      <th>Alcohol</th>\n",
              "      <th>Malic_acid</th>\n",
              "      <th>Ash</th>\n",
              "      <th>Alcalinity</th>\n",
              "      <th>Magnesium</th>\n",
              "      <th>Phenols</th>\n",
              "      <th>Flavanoids</th>\n",
              "      <th>Nonflavanoid</th>\n",
              "      <th>Proanthocyanins</th>\n",
              "      <th>Color</th>\n",
              "      <th>Hue</th>\n",
              "      <th>OD280/OD315</th>\n",
              "      <th>Proline</th>\n",
              "    </tr>\n",
              "  </thead>\n",
              "  <tbody>\n",
              "    <tr>\n",
              "      <th>0</th>\n",
              "      <td>14.23</td>\n",
              "      <td>1.71</td>\n",
              "      <td>2.43</td>\n",
              "      <td>15.6</td>\n",
              "      <td>127</td>\n",
              "      <td>2.80</td>\n",
              "      <td>3.06</td>\n",
              "      <td>0.28</td>\n",
              "      <td>2.29</td>\n",
              "      <td>5.64</td>\n",
              "      <td>1.04</td>\n",
              "      <td>3.92</td>\n",
              "      <td>1065</td>\n",
              "    </tr>\n",
              "    <tr>\n",
              "      <th>1</th>\n",
              "      <td>13.20</td>\n",
              "      <td>1.78</td>\n",
              "      <td>2.14</td>\n",
              "      <td>11.2</td>\n",
              "      <td>100</td>\n",
              "      <td>2.65</td>\n",
              "      <td>2.76</td>\n",
              "      <td>0.26</td>\n",
              "      <td>1.28</td>\n",
              "      <td>4.38</td>\n",
              "      <td>1.05</td>\n",
              "      <td>3.40</td>\n",
              "      <td>1050</td>\n",
              "    </tr>\n",
              "    <tr>\n",
              "      <th>2</th>\n",
              "      <td>13.16</td>\n",
              "      <td>2.36</td>\n",
              "      <td>2.67</td>\n",
              "      <td>18.6</td>\n",
              "      <td>101</td>\n",
              "      <td>2.80</td>\n",
              "      <td>3.24</td>\n",
              "      <td>0.30</td>\n",
              "      <td>2.81</td>\n",
              "      <td>5.68</td>\n",
              "      <td>1.03</td>\n",
              "      <td>3.17</td>\n",
              "      <td>1185</td>\n",
              "    </tr>\n",
              "    <tr>\n",
              "      <th>3</th>\n",
              "      <td>14.37</td>\n",
              "      <td>1.95</td>\n",
              "      <td>2.50</td>\n",
              "      <td>16.8</td>\n",
              "      <td>113</td>\n",
              "      <td>3.85</td>\n",
              "      <td>3.49</td>\n",
              "      <td>0.24</td>\n",
              "      <td>2.18</td>\n",
              "      <td>7.80</td>\n",
              "      <td>0.86</td>\n",
              "      <td>3.45</td>\n",
              "      <td>1480</td>\n",
              "    </tr>\n",
              "    <tr>\n",
              "      <th>4</th>\n",
              "      <td>13.24</td>\n",
              "      <td>2.59</td>\n",
              "      <td>2.87</td>\n",
              "      <td>21.0</td>\n",
              "      <td>118</td>\n",
              "      <td>2.80</td>\n",
              "      <td>2.69</td>\n",
              "      <td>0.39</td>\n",
              "      <td>1.82</td>\n",
              "      <td>4.32</td>\n",
              "      <td>1.04</td>\n",
              "      <td>2.93</td>\n",
              "      <td>735</td>\n",
              "    </tr>\n",
              "  </tbody>\n",
              "</table>\n",
              "</div>"
            ],
            "text/plain": [
              "   Alcohol   Malic_acid   Ash  ...   Hue   OD280/OD315   Proline    \n",
              "0    14.23         1.71  2.43  ...  1.04          3.92          1065\n",
              "1    13.20         1.78  2.14  ...  1.05          3.40          1050\n",
              "2    13.16         2.36  2.67  ...  1.03          3.17          1185\n",
              "3    14.37         1.95  2.50  ...  0.86          3.45          1480\n",
              "4    13.24         2.59  2.87  ...  1.04          2.93           735\n",
              "\n",
              "[5 rows x 13 columns]"
            ]
          },
          "metadata": {},
          "execution_count": 177
        }
      ]
    },
    {
      "cell_type": "code",
      "metadata": {
        "id": "ydkm2g7SA9lx"
      },
      "source": [
        "X=np.array(winedata_df)\n",
        "y=np.array(wine_labels)"
      ],
      "execution_count": 178,
      "outputs": []
    },
    {
      "cell_type": "code",
      "metadata": {
        "id": "Z9q2QuUyBffi"
      },
      "source": [
        "X_PF=X[:,[6,12]]"
      ],
      "execution_count": 179,
      "outputs": []
    },
    {
      "cell_type": "markdown",
      "metadata": {
        "id": "feUPRMlLCo2x"
      },
      "source": [
        "Training\n"
      ]
    },
    {
      "cell_type": "code",
      "metadata": {
        "id": "jI1H81Y3CsGo"
      },
      "source": [
        "from sklearn.neighbors import KNeighborsClassifier"
      ],
      "execution_count": 180,
      "outputs": []
    },
    {
      "cell_type": "code",
      "metadata": {
        "id": "EgZatyqeCz1x"
      },
      "source": [
        "from sklearn.model_selection import train_test_split"
      ],
      "execution_count": 181,
      "outputs": []
    },
    {
      "cell_type": "code",
      "metadata": {
        "id": "AzSl4yz9DSM5"
      },
      "source": [
        "X_train, X_test, y_train,y_test = train_test_split(X_PF, y,\n",
        "                                                   test_size=0.3,\n",
        "                                                   stratify=y)"
      ],
      "execution_count": 182,
      "outputs": []
    },
    {
      "cell_type": "code",
      "metadata": {
        "colab": {
          "base_uri": "https://localhost:8080/"
        },
        "id": "mkTZHIDCDWTQ",
        "outputId": "121cf882-d006-41b7-d4d1-cc40966bca8f"
      },
      "source": [
        "k_values= list(range(1,21))\n",
        "print(k_values)"
      ],
      "execution_count": 183,
      "outputs": [
        {
          "output_type": "stream",
          "name": "stdout",
          "text": [
            "[1, 2, 3, 4, 5, 6, 7, 8, 9, 10, 11, 12, 13, 14, 15, 16, 17, 18, 19, 20]\n"
          ]
        }
      ]
    },
    {
      "cell_type": "code",
      "metadata": {
        "id": "O_fxoxeIDwzI"
      },
      "source": [
        "train_error = []\n",
        "generalization_error = []\n",
        "\n",
        "# Utilizar un for\n",
        "for nn in k_values:\n",
        "  knn=KNeighborsClassifier(n_neighbors=nn)\n",
        "  knn.fit(X_train,y_train)\n",
        "  train_error.append(1-knn.score(X_train,y_train))\n",
        "  generalization_error.append(1-knn.score(X_test,y_test))"
      ],
      "execution_count": 184,
      "outputs": []
    },
    {
      "cell_type": "code",
      "metadata": {
        "colab": {
          "base_uri": "https://localhost:8080/",
          "height": 410
        },
        "id": "Dr1_5uCvDwrf",
        "outputId": "ef2a8284-fdd6-42e2-b07a-7beb90697d69"
      },
      "source": [
        "# Visualizar las curvas de aprendizaje\n",
        "pl.figure(figsize=(10,6))\n",
        "\n",
        "pl.plot(k_values, train_error, label='error de entrenamiento')\n",
        "pl.plot(k_values, generalization_error, label='error de generalización')\n",
        "pl.xticks(k_values)\n",
        "pl.xlabel('k')\n",
        "pl.ylabel('Error')\n",
        "pl.legend()\n"
      ],
      "execution_count": 185,
      "outputs": [
        {
          "output_type": "execute_result",
          "data": {
            "text/plain": [
              "<matplotlib.legend.Legend at 0x7fd31dab1f90>"
            ]
          },
          "metadata": {},
          "execution_count": 185
        },
        {
          "output_type": "display_data",
          "data": {
            "image/png": "[encoded data removed]",
            "text/plain": [
              "<Figure size 720x432 with 1 Axes>"
            ]
          },
          "metadata": {
            "needs_background": "light"
          }
        }
      ]
    },
    {
      "cell_type": "code",
      "metadata": {
        "colab": {
          "base_uri": "https://localhost:8080/"
        },
        "id": "SgNxdTKIHGCx",
        "outputId": "843ea31d-734f-4a1c-fd9c-567ff3f87010"
      },
      "source": [
        "knn_opt=KNeighborsClassifier(n_neighbors=15)\n",
        "knn_opt.fit(X_train,y_train)"
      ],
      "execution_count": 187,
      "outputs": [
        {
          "output_type": "execute_result",
          "data": {
            "text/plain": [
              "KNeighborsClassifier(algorithm='auto', leaf_size=30, metric='minkowski',\n",
              "                     metric_params=None, n_jobs=None, n_neighbors=15, p=2,\n",
              "                     weights='uniform')"
            ]
          },
          "metadata": {},
          "execution_count": 187
        }
      ]
    },
    {
      "cell_type": "code",
      "metadata": {
        "colab": {
          "base_uri": "https://localhost:8080/",
          "height": 404
        },
        "id": "XamMazzcHM7f",
        "outputId": "8904f3f5-e738-4fc0-bb0e-baab5b4e87cc"
      },
      "source": [
        "# Dibujar superficie de decición con los datos de entrenamiento\n",
        "pl.figure(figsize=(10,6))\n",
        "plot_decision_region(X_train, gen_pred_fun(knn_opt))\n",
        "plot_data(X_train, y_train)"
      ],
      "execution_count": 188,
      "outputs": [
        {
          "output_type": "display_data",
          "data": {
            "image/png": "[encoded data removed]",
            "text/plain": [
              "<Figure size 720x432 with 2 Axes>"
            ]
          },
          "metadata": {
            "needs_background": "light"
          }
        }
      ]
    },
    {
      "cell_type": "code",
      "metadata": {
        "colab": {
          "base_uri": "https://localhost:8080/",
          "height": 350
        },
        "id": "Tqm-CHWxKWqg",
        "outputId": "03650ddb-651c-44d6-ff0b-4df11d027abf"
      },
      "source": [
        "pl.figure(figsize=(10,5))\n",
        "plot_decision_region(X_test,gen_pred_fun(knn_opt))\n",
        "plot_data(X_test,y_test)"
      ],
      "execution_count": 189,
      "outputs": [
        {
          "output_type": "display_data",
          "data": {
            "image/png": "[encoded data removed]",
            "text/plain": [
              "<Figure size 720x360 with 2 Axes>"
            ]
          },
          "metadata": {
            "needs_background": "light"
          }
        }
      ]
    },
    {
      "cell_type": "code",
      "metadata": {
        "colab": {
          "base_uri": "https://localhost:8080/"
        },
        "id": "T1ttmmx_MIb1",
        "outputId": "9aa25c66-38b4-4ddf-becf-5404791d804f"
      },
      "source": [
        "print(\"Error de Generalizacion: {}\".format(1-knn.score(X_test,y_test)))"
      ],
      "execution_count": 190,
      "outputs": [
        {
          "output_type": "stream",
          "name": "stdout",
          "text": [
            "Error de Generalizacion: 0.2592592592592593\n"
          ]
        }
      ]
    },
    {
      "cell_type": "markdown",
      "metadata": {
        "id": "D3GwzDCCOXuk"
      },
      "source": [
        "KNN con 13 Caracteristicas\n"
      ]
    },
    {
      "cell_type": "code",
      "metadata": {
        "id": "1jSyuWXETPtd"
      },
      "source": [
        "X=np.array(winedata_df)\n",
        "y=np.array(wine_labels)"
      ],
      "execution_count": 191,
      "outputs": []
    },
    {
      "cell_type": "code",
      "metadata": {
        "id": "QcTvQNsjOcvE"
      },
      "source": [
        "X_train1, X_test1, y_train1,y_test1 = train_test_split(X, y,\n",
        "                                                   test_size=0.3,\n",
        "                                                   stratify=y)"
      ],
      "execution_count": 192,
      "outputs": []
    },
    {
      "cell_type": "code",
      "metadata": {
        "colab": {
          "base_uri": "https://localhost:8080/"
        },
        "id": "CP6Zwl9iYlzL",
        "outputId": "94260ccd-7ff0-4fb5-b103-03b038260c77"
      },
      "source": [
        "k_values= list(range(1,21))\n",
        "print(k_values)"
      ],
      "execution_count": 193,
      "outputs": [
        {
          "output_type": "stream",
          "name": "stdout",
          "text": [
            "[1, 2, 3, 4, 5, 6, 7, 8, 9, 10, 11, 12, 13, 14, 15, 16, 17, 18, 19, 20]\n"
          ]
        }
      ]
    },
    {
      "cell_type": "code",
      "metadata": {
        "id": "411fyO9VYrmA"
      },
      "source": [
        "train_error1 = []\n",
        "generalization_error1 = []\n",
        "\n",
        "# Utilizar un for\n",
        "for nn in k_values:\n",
        "  knn=KNeighborsClassifier(n_neighbors=nn)\n",
        "  knn.fit(X_train1,y_train1)\n",
        "  train_error1.append(1-knn.score(X_train1,y_train1))\n",
        "  generalization_error1.append(1-knn.score(X_test1,y_test1))"
      ],
      "execution_count": 194,
      "outputs": []
    },
    {
      "cell_type": "code",
      "metadata": {
        "colab": {
          "base_uri": "https://localhost:8080/",
          "height": 405
        },
        "id": "GYlUJX_7Y7tH",
        "outputId": "30eea556-e42f-4c5d-f655-d29e965d7679"
      },
      "source": [
        "# Visualizar las curvas de aprendizaje\n",
        "pl.figure(figsize=(10,6))\n",
        "\n",
        "pl.plot(k_values, train_error1, label='error de entrenamiento')\n",
        "pl.plot(k_values, generalization_error1, label='error de generalización')\n",
        "pl.xticks(k_values)\n",
        "pl.xlabel('k')\n",
        "pl.ylabel('Error')\n",
        "pl.legend()\n"
      ],
      "execution_count": 195,
      "outputs": [
        {
          "output_type": "execute_result",
          "data": {
            "text/plain": [
              "<matplotlib.legend.Legend at 0x7fd31dca7850>"
            ]
          },
          "metadata": {},
          "execution_count": 195
        },
        {
          "output_type": "display_data",
          "data": {
            "image/png": "[encoded data removed]",
            "text/plain": [
              "<Figure size 720x432 with 1 Axes>"
            ]
          },
          "metadata": {
            "needs_background": "light"
          }
        }
      ]
    },
    {
      "cell_type": "code",
      "metadata": {
        "colab": {
          "base_uri": "https://localhost:8080/"
        },
        "id": "kyK_RPFCbeZf",
        "outputId": "a985a388-7d16-4ea6-c498-facd6b378f0f"
      },
      "source": [
        "knn_opt1=KNeighborsClassifier(n_neighbors=11)\n",
        "knn_opt1.fit(X_train1,y_train1)"
      ],
      "execution_count": 196,
      "outputs": [
        {
          "output_type": "execute_result",
          "data": {
            "text/plain": [
              "KNeighborsClassifier(algorithm='auto', leaf_size=30, metric='minkowski',\n",
              "                     metric_params=None, n_jobs=None, n_neighbors=11, p=2,\n",
              "                     weights='uniform')"
            ]
          },
          "metadata": {},
          "execution_count": 196
        }
      ]
    },
    {
      "cell_type": "code",
      "metadata": {
        "colab": {
          "base_uri": "https://localhost:8080/"
        },
        "id": "l0HxHNoNbkrm",
        "outputId": "d7940cac-bce7-4395-a37f-218c5eb73ca4"
      },
      "source": [
        "print(\"Error de Generalizacion: {}\".format(1-knn.score(X_test1,y_test1)))"
      ],
      "execution_count": 197,
      "outputs": [
        {
          "output_type": "stream",
          "name": "stdout",
          "text": [
            "Error de Generalizacion: 0.31481481481481477\n"
          ]
        }
      ]
    },
    {
      "cell_type": "markdown",
      "metadata": {
        "id": "dLDJItdqdXdx"
      },
      "source": [
        "Conclusion: El error de generalizacion sube entre mas clases se tengan en cuenta para el entrenamiento"
      ]
    }
  ]
}